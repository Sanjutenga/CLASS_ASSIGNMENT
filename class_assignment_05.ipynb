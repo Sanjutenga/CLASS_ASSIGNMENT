{
  "nbformat": 4,
  "nbformat_minor": 0,
  "metadata": {
    "colab": {
      "provenance": []
    },
    "kernelspec": {
      "name": "python3",
      "display_name": "Python 3"
    },
    "language_info": {
      "name": "python"
    }
  },
  "cells": [
    {
      "cell_type": "markdown",
      "source": [
        "\n",
        "#1. On amazon website we have the following available items -"
      ],
      "metadata": {
        "id": "qITytd9oXTX8"
      }
    },
    {
      "cell_type": "code",
      "source": [
        "amazon_website = [(\"watch\", 5000), (\"phone\", 10000), (\"laptop\", 50000), (\"shirt\", 1000)]\n",
        "total = 0\n",
        "my = input(\"enter ur choice of products : \")\n",
        "for item in amazon_website:\n",
        " if my == 'watch' or 'phone' or 'laptop' or 'shirt':\n",
        "  print(item)\n",
        "else:\n",
        "  print(\"out of stock\")\n",
        "for i in range(len(amazon_website)):\n",
        "  print(amazon_website[i][1])\n",
        "  total =total + amazon_website[i][1]\n",
        "print(\"the total paid amount of products : \", total)\n"
      ],
      "metadata": {
        "colab": {
          "base_uri": "https://localhost:8080/"
        },
        "id": "6iljimD5XXZK",
        "outputId": "07d9388e-85ec-4a40-fdbd-4cb02d97a8f0"
      },
      "execution_count": 69,
      "outputs": [
        {
          "output_type": "stream",
          "name": "stdout",
          "text": [
            "enter ur choice of products : shirt\n",
            "('watch', 5000)\n",
            "('phone', 10000)\n",
            "('laptop', 50000)\n",
            "('shirt', 1000)\n",
            "out of stock\n",
            "5000\n",
            "10000\n",
            "50000\n",
            "1000\n",
            "the total paid amount of products :  66000\n"
          ]
        }
      ]
    },
    {
      "cell_type": "markdown",
      "source": [
        "# 2. What will be the output of the following code snippet?"
      ],
      "metadata": {
        "id": "-2AWJLF6TjZM"
      }
    },
    {
      "cell_type": "code",
      "source": [
        "arr = [1, 2, 3, 4, 5, 6]\n",
        "for i in range(1, 6):\n",
        "    arr[i - 1] = arr[i]\n",
        "for i in range(0, 6): \n",
        "    print(arr[i], end = \" \")\n",
        "\n"
      ],
      "metadata": {
        "colab": {
          "base_uri": "https://localhost:8080/"
        },
        "id": "AAfdFarfTlEB",
        "outputId": "c73c431b-627b-4bee-af3e-c31a03d235e5"
      },
      "execution_count": 42,
      "outputs": [
        {
          "output_type": "stream",
          "name": "stdout",
          "text": [
            "2 3 4 5 6 6 "
          ]
        }
      ]
    },
    {
      "cell_type": "markdown",
      "source": [
        "# 3. Write a Python program to find the repeated items of a tuple."
      ],
      "metadata": {
        "id": "oN-aMIRKaU0q"
      }
    },
    {
      "cell_type": "code",
      "source": [
        "t = (1,1,1,1,2,3,4,5,6,7)\n",
        "t = t.count(1)  # count is mainly used to find repeated items in an tuple\n",
        "print(t)"
      ],
      "metadata": {
        "colab": {
          "base_uri": "https://localhost:8080/"
        },
        "id": "-SN_3apGR0AK",
        "outputId": "8bf9db99-d4cb-4500-c1bb-8092fd6f906a"
      },
      "execution_count": 9,
      "outputs": [
        {
          "output_type": "stream",
          "name": "stdout",
          "text": [
            "4\n"
          ]
        }
      ]
    },
    {
      "cell_type": "code",
      "source": [
        "t = (1,1111,1,1111,2,3,4,5,555,5,5555,5)\n",
        "for i in t:\n",
        "  if t.count(i) > 1:\n",
        "    print(i)"
      ],
      "metadata": {
        "colab": {
          "base_uri": "https://localhost:8080/"
        },
        "id": "qATTx9brS6N6",
        "outputId": "6e93e09c-9e62-4da1-c992-9ae5692d661a"
      },
      "execution_count": 18,
      "outputs": [
        {
          "output_type": "stream",
          "name": "stdout",
          "text": [
            "1\n",
            "1111\n",
            "1\n",
            "1111\n",
            "5\n",
            "5\n",
            "5\n"
          ]
        }
      ]
    },
    {
      "cell_type": "markdown",
      "source": [
        "# 4. Replace last value of tuples in a list with 500. Try using list comprehension"
      ],
      "metadata": {
        "id": "JXohPOt11buJ"
      }
    },
    {
      "cell_type": "code",
      "source": [
        "A = [(10, 20, 40), (40, 50, 60), (70, 80, 90)]\n",
        "for i in range(len(A)):\n",
        "  l = list(A[i])   # we have converted tuple of elements into list of elements\n",
        "  print(i)\n",
        "  print(l)\n",
        "  l[-1] = 500    # replace last value with 500\n",
        "  print(l)\n",
        "  A[i] = tuple(l) # we once again convert list into tuple to final results\n",
        "  print(A[i])\n",
        "  print(i)\n",
        "  print(A)\n"
      ],
      "metadata": {
        "colab": {
          "base_uri": "https://localhost:8080/"
        },
        "id": "JBJPGqHi1lJL",
        "outputId": "382de6ee-b4f8-47cb-ad55-58748d8e78dd"
      },
      "execution_count": 4,
      "outputs": [
        {
          "output_type": "stream",
          "name": "stdout",
          "text": [
            "0\n",
            "[10, 20, 40]\n",
            "[10, 20, 500]\n",
            "(10, 20, 500)\n",
            "0\n",
            "[(10, 20, 500), (40, 50, 60), (70, 80, 90)]\n",
            "1\n",
            "[40, 50, 60]\n",
            "[40, 50, 500]\n",
            "(40, 50, 500)\n",
            "1\n",
            "[(10, 20, 500), (40, 50, 500), (70, 80, 90)]\n",
            "2\n",
            "[70, 80, 90]\n",
            "[70, 80, 500]\n",
            "(70, 80, 500)\n",
            "2\n",
            "[(10, 20, 500), (40, 50, 500), (70, 80, 500)]\n"
          ]
        }
      ]
    },
    {
      "cell_type": "code",
      "source": [
        "A = [(10, 20, 40), (40, 50, 60), (70, 80, 90)]  #list comprehension\n",
        "print([i[:-1] + (500,) for i in A])\n"
      ],
      "metadata": {
        "colab": {
          "base_uri": "https://localhost:8080/"
        },
        "id": "7P6s7XbA2x3Q",
        "outputId": "e724121f-782d-4e2f-d89f-151bd5276b3d"
      },
      "execution_count": null,
      "outputs": [
        {
          "output_type": "stream",
          "name": "stdout",
          "text": [
            "[(10, 20, 500), (40, 50, 500), (70, 80, 500)]\n"
          ]
        }
      ]
    },
    {
      "cell_type": "code",
      "source": [],
      "metadata": {
        "id": "IL84kqPoQ3CX"
      },
      "execution_count": null,
      "outputs": []
    }
  ]
}