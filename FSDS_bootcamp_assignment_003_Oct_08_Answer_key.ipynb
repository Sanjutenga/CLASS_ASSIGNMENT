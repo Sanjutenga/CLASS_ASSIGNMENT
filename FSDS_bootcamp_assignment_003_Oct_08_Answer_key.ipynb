{
  "nbformat": 4,
  "nbformat_minor": 0,
  "metadata": {
    "colab": {
      "provenance": [],
      "collapsed_sections": []
    },
    "kernelspec": {
      "name": "python3",
      "display_name": "Python 3"
    },
    "language_info": {
      "name": "python"
    }
  },
  "cells": [
    {
      "cell_type": "markdown",
      "source": [
        "#FSDS_bootcamp_assignment_003 Answer Key\n"
      ],
      "metadata": {
        "id": "MSnE3rd16_Sf"
      }
    },
    {
      "cell_type": "markdown",
      "source": [
        "## Python String Manipulation"
      ],
      "metadata": {
        "id": "OgqC0klr694N"
      }
    },
    {
      "cell_type": "markdown",
      "source": [
        "1.Count the number of times iNeuron appears in the string.\n",
        "\n"
      ],
      "metadata": {
        "id": "bi1C9lux7EQC"
      }
    },
    {
      "cell_type": "code",
      "source": [
        "text = \"Welcome to iNeuron, You are a part of FSDS Bootcamp 2 in iNeuron. I hope you are enjoying the course by iNeuron\""
      ],
      "metadata": {
        "id": "9Zjx6HcU7TeY"
      },
      "execution_count": null,
      "outputs": []
    },
    {
      "cell_type": "code",
      "source": [
        "text.count (\"iNeuron\")"
      ],
      "metadata": {
        "colab": {
          "base_uri": "https://localhost:8080/"
        },
        "id": "cELmcIeG7YBY",
        "outputId": "c66d2950-e1ef-46b1-b2b1-9408154d7617"
      },
      "execution_count": null,
      "outputs": [
        {
          "output_type": "execute_result",
          "data": {
            "text/plain": [
              "3"
            ]
          },
          "metadata": {},
          "execution_count": 8
        }
      ]
    },
    {
      "cell_type": "markdown",
      "source": [
        "2.Check if position 5 to 11 ends with the phrase iNeuron. in the string\n",
        "\n"
      ],
      "metadata": {
        "id": "TDSljczm8VQx"
      }
    },
    {
      "cell_type": "code",
      "source": [
        "txt = \"Hello, welcome to FSDS 2.0 at iNeuron.\""
      ],
      "metadata": {
        "id": "pzkkl27F7nvm"
      },
      "execution_count": null,
      "outputs": []
    },
    {
      "cell_type": "code",
      "source": [
        "txt.endswith(\"iNeuron.\")"
      ],
      "metadata": {
        "colab": {
          "base_uri": "https://localhost:8080/"
        },
        "id": "PGOaCmC_8Zm1",
        "outputId": "0bd3f7a5-35b0-45c4-cc79-c5097a3e763c"
      },
      "execution_count": null,
      "outputs": [
        {
          "output_type": "execute_result",
          "data": {
            "text/plain": [
              "True"
            ]
          },
          "metadata": {},
          "execution_count": 11
        }
      ]
    },
    {
      "cell_type": "markdown",
      "source": [
        "3.Write a program that takes your full name as input and displays the abbreviations of the first and middle names except the last name which is displayed as it is. For example, if your name is Sunny Bhaveen Chandra, then the output should be S.B.Chandra."
      ],
      "metadata": {
        "id": "w7kDvV4_9OS6"
      }
    },
    {
      "cell_type": "code",
      "source": [
        "name = \"Sunny Bhavin Chandra\"\n",
        "first_name, middle_name, sir_name = name.split(\" \")\n",
        "\n",
        "print(f\"\"\" {first_name[0]}.{middle_name[0]}.{sir_name}\n",
        "\"\"\")\n"
      ],
      "metadata": {
        "colab": {
          "base_uri": "https://localhost:8080/"
        },
        "id": "z3rkoyQL9cUc",
        "outputId": "72ca5ac9-9a57-42c7-e88b-b2ef33db71f8"
      },
      "execution_count": null,
      "outputs": [
        {
          "output_type": "stream",
          "name": "stdout",
          "text": [
            " S.B.Chandra\n",
            "\n"
          ]
        }
      ]
    },
    {
      "cell_type": "markdown",
      "source": [
        "4.Join all items in a list into a string, using a hash(#) character as separator:\n",
        "\n"
      ],
      "metadata": {
        "id": "37c4eCOq_h1-"
      }
    },
    {
      "cell_type": "code",
      "source": [
        "LIST = [\"My\", \"name\", \"is\", \"Rishav\", \"Dash\"]\n",
        "\"#\".join (LIST)"
      ],
      "metadata": {
        "colab": {
          "base_uri": "https://localhost:8080/",
          "height": 36
        },
        "id": "R0Fv0hZj8e5B",
        "outputId": "471c4904-db91-4484-a6cb-2fa90b501017"
      },
      "execution_count": null,
      "outputs": [
        {
          "output_type": "execute_result",
          "data": {
            "text/plain": [
              "'My#name#is#Rishav#Dash'"
            ],
            "application/vnd.google.colaboratory.intrinsic+json": {
              "type": "string"
            }
          },
          "metadata": {},
          "execution_count": 20
        }
      ]
    },
    {
      "cell_type": "markdown",
      "source": [
        "5.Write example for the following string manipulation function,\n",
        "\n",
        "- isdecimal()\n",
        "- islower()\n",
        "- isupper()\n",
        "- isalpha()\n",
        "- isnumeric()"
      ],
      "metadata": {
        "id": "3RGVWlmhAJT-"
      }
    },
    {
      "cell_type": "code",
      "source": [
        "name = \"Sunny\"\n",
        "name.islower()\n"
      ],
      "metadata": {
        "colab": {
          "base_uri": "https://localhost:8080/"
        },
        "id": "oDIQjn6e_w8G",
        "outputId": "a49231e8-c77e-43b4-faa5-6a2764074221"
      },
      "execution_count": null,
      "outputs": [
        {
          "output_type": "execute_result",
          "data": {
            "text/plain": [
              "False"
            ]
          },
          "metadata": {},
          "execution_count": 26
        }
      ]
    },
    {
      "cell_type": "code",
      "source": [
        "name = \"Sunny\"\n",
        "name.isnumeric()"
      ],
      "metadata": {
        "colab": {
          "base_uri": "https://localhost:8080/"
        },
        "id": "9DLO5CuTApS-",
        "outputId": "e5c1a47e-54e4-4523-8fb7-f2084d018e76"
      },
      "execution_count": null,
      "outputs": [
        {
          "output_type": "execute_result",
          "data": {
            "text/plain": [
              "False"
            ]
          },
          "metadata": {},
          "execution_count": 22
        }
      ]
    },
    {
      "cell_type": "code",
      "source": [
        "name = \"Sunny\"\n",
        "name.isalpha()\n"
      ],
      "metadata": {
        "colab": {
          "base_uri": "https://localhost:8080/"
        },
        "id": "uaFgZBg1Awpb",
        "outputId": "95f23c82-ef75-4056-b612-4fce0e910d5a"
      },
      "execution_count": null,
      "outputs": [
        {
          "output_type": "execute_result",
          "data": {
            "text/plain": [
              "True"
            ]
          },
          "metadata": {},
          "execution_count": 24
        }
      ]
    },
    {
      "cell_type": "code",
      "source": [
        "name = \"Sunny\"\n",
        "name.isupper()\n"
      ],
      "metadata": {
        "colab": {
          "base_uri": "https://localhost:8080/"
        },
        "id": "Y9ZVld3HA0gE",
        "outputId": "90d89c70-8060-4c4e-a4a0-77d93e5d0d8f"
      },
      "execution_count": null,
      "outputs": [
        {
          "output_type": "execute_result",
          "data": {
            "text/plain": [
              "False"
            ]
          },
          "metadata": {},
          "execution_count": 25
        }
      ]
    },
    {
      "cell_type": "markdown",
      "source": [
        "6.Indian PAN card format follows the following formats -\n",
        "\n",
        "AYEPC7894X\n",
        "\n",
        "\n",
        "---\n",
        "\n",
        "\n",
        "ABCDE9999Y Take user input for PAN_CARD and validate as per the above example."
      ],
      "metadata": {
        "id": "qKPryXHQA7dW"
      }
    },
    {
      "cell_type": "code",
      "source": [
        "pan_number = input()\n",
        "\n",
        "if pan_number[0:5].isupper() and pan_number[5:9].isdigit() and pan_number[9].isupper() and len(pan_number)==10:\n",
        "  print(f\"user input is correct: {pan_number} \")\n",
        "else:\n",
        "  print(\"invalid input\")\n"
      ],
      "metadata": {
        "colab": {
          "base_uri": "https://localhost:8080/"
        },
        "id": "AVAD3xrtA4ja",
        "outputId": "739d1ba7-587d-457e-d20b-5457867d6bde"
      },
      "execution_count": null,
      "outputs": [
        {
          "output_type": "stream",
          "name": "stdout",
          "text": [
            "ABCDE9999Y\n",
            "user input is correct: ABCDE9999Y \n"
          ]
        }
      ]
    },
    {
      "cell_type": "code",
      "source": [
        "\\"
      ],
      "metadata": {
        "id": "5vHQ5fGhBljy"
      },
      "execution_count": null,
      "outputs": []
    }
  ]
}