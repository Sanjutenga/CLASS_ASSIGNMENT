{
  "nbformat": 4,
  "nbformat_minor": 0,
  "metadata": {
    "colab": {
      "provenance": []
    },
    "kernelspec": {
      "name": "python3",
      "display_name": "Python 3"
    },
    "language_info": {
      "name": "python"
    }
  },
  "cells": [
    {
      "cell_type": "markdown",
      "source": [
        "#Q1. Find the largest number from the given list, use for loop."
      ],
      "metadata": {
        "id": "mh9dxielQOg7"
      }
    },
    {
      "cell_type": "code",
      "source": [
        "numbers = [12, 75, 150, 180, 145, 525, 50]\n",
        "\n",
        "for i in numbers:\n",
        "  if i > larger:\n",
        "    larger = i\n",
        "print(f\"the largest number from the list is: {larger}\")"
      ],
      "metadata": {
        "id": "1H0mfntDQSzA",
        "colab": {
          "base_uri": "https://localhost:8080/"
        },
        "outputId": "ecca3aba-599b-47d1-bc6a-f815318fea72"
      },
      "execution_count": 46,
      "outputs": [
        {
          "output_type": "stream",
          "name": "stdout",
          "text": [
            "the largest number from the list is: 525\n"
          ]
        }
      ]
    },
    {
      "cell_type": "markdown",
      "source": [
        "#Q2. Print all the even number between (1, 12)."
      ],
      "metadata": {
        "id": "hGXqYq-DjII5"
      }
    },
    {
      "cell_type": "code",
      "source": [
        "for i in range(1,12):\n",
        "   if i % 2 == 0:\n",
        "    print(i)"
      ],
      "metadata": {
        "colab": {
          "base_uri": "https://localhost:8080/"
        },
        "id": "_ehaFMagjM7_",
        "outputId": "aa7f5132-1505-4899-a50f-e550e49f46b9"
      },
      "execution_count": 57,
      "outputs": [
        {
          "output_type": "stream",
          "name": "stdout",
          "text": [
            "2\n",
            "4\n",
            "6\n",
            "8\n",
            "10\n"
          ]
        }
      ]
    },
    {
      "cell_type": "markdown",
      "source": [
        "#Q3. Calculate the sum of all numbers from 1 to a given number\n",
        "```\n",
        "Expected Output:\n",
        "\n",
        "Enter number 10\n",
        "\n",
        "Sum is:  55\n",
        "```"
      ],
      "metadata": {
        "id": "nyryyG8YlOQQ"
      }
    },
    {
      "cell_type": "code",
      "source": [
        "a = int(input(\"enter an number\"))\n",
        "sum = 0\n",
        "for i in range(1, a+1):\n",
        "  sum = sum + i\n",
        "  print(\"sum of all \", a, \"numbers: \", sum)\n",
        "\n"
      ],
      "metadata": {
        "colab": {
          "base_uri": "https://localhost:8080/"
        },
        "id": "1WkAO26ilPlz",
        "outputId": "457badc7-db2c-4e4a-fe78-4756a6fcfa9a"
      },
      "execution_count": 79,
      "outputs": [
        {
          "output_type": "stream",
          "name": "stdout",
          "text": [
            "enter an number10\n",
            "sum of all  10 numbers:  1\n",
            "sum of all  10 numbers:  3\n",
            "sum of all  10 numbers:  6\n",
            "sum of all  10 numbers:  10\n",
            "sum of all  10 numbers:  15\n",
            "sum of all  10 numbers:  21\n",
            "sum of all  10 numbers:  28\n",
            "sum of all  10 numbers:  36\n",
            "sum of all  10 numbers:  45\n",
            "sum of all  10 numbers:  55\n"
          ]
        }
      ]
    },
    {
      "cell_type": "markdown",
      "source": [
        "#Q4. Write a program to display only those numbers from a list that satisfy the following conditions\n",
        "```\n",
        "The number must be divisible by five\n",
        "\n",
        "If the number is greater than 150, then skip it and move to the next number\n",
        "\n",
        "If the number is greater than 500, then stop the loop\n",
        "\n",
        "\n",
        "```"
      ],
      "metadata": {
        "id": "dBcSLT_ZoYFR"
      }
    },
    {
      "cell_type": "code",
      "source": [
        "numbers = [12, 75, 150, 180, 145, 525, 50]\n",
        "for i in numbers:\n",
        "    if i > 500:\n",
        "        break\n",
        "    elif i > 150:\n",
        "        continue\n",
        "    elif i % 5 == 0:\n",
        "        print(i) "
      ],
      "metadata": {
        "colab": {
          "base_uri": "https://localhost:8080/"
        },
        "id": "OZYq7tnAopYp",
        "outputId": "bed03cc9-d945-4742-8eb4-732c80e5bf1e"
      },
      "execution_count": 77,
      "outputs": [
        {
          "output_type": "stream",
          "name": "stdout",
          "text": [
            "75\n",
            "150\n",
            "145\n"
          ]
        }
      ]
    },
    {
      "cell_type": "markdown",
      "source": [
        "#Q5. Print the given list in reverse order."
      ],
      "metadata": {
        "id": "i_G5pFvSnno_"
      }
    },
    {
      "cell_type": "code",
      "source": [
        "list1 = [10, 20, 30, 40, 50]\n",
        "list1.reverse()\n",
        "\n",
        "print(f\"the reverse order is: {list1}\")"
      ],
      "metadata": {
        "colab": {
          "base_uri": "https://localhost:8080/"
        },
        "id": "0PIyJXUvnoz4",
        "outputId": "e508e2aa-9b7b-4a44-bad8-edf53cccfac6"
      },
      "execution_count": 66,
      "outputs": [
        {
          "output_type": "stream",
          "name": "stdout",
          "text": [
            "the reverse order is: [50, 40, 30, 20, 10]\n"
          ]
        }
      ]
    }
  ]
}