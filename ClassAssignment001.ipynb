{
  "nbformat": 4,
  "nbformat_minor": 0,
  "metadata": {
    "colab": {
      "provenance": [],
      "collapsed_sections": []
    },
    "kernelspec": {
      "name": "python3",
      "display_name": "Python 3"
    },
    "language_info": {
      "name": "python"
    }
  },
  "cells": [
    {
      "cell_type": "markdown",
      "source": [
        "# (1).Count the number of times iNeuron appears in the string."
      ],
      "metadata": {
        "id": "4NPtsUmmfHIz"
      }
    },
    {
      "cell_type": "code",
      "source": [
        "text = \"Welcome to iNeuron, You are a part of FSDS Bootcamp 2 in iNeuron. I hope you are enjoying the course by iNeuron\""
      ],
      "metadata": {
        "id": "CqLIDG3AfM5H"
      },
      "execution_count": 2,
      "outputs": []
    },
    {
      "cell_type": "code",
      "source": [
        "text.count(\"iNeuron\")"
      ],
      "metadata": {
        "colab": {
          "base_uri": "https://localhost:8080/"
        },
        "id": "rkDpjpKJfVag",
        "outputId": "e545d80a-09d2-4003-d18c-37e1fa843fa2"
      },
      "execution_count": 3,
      "outputs": [
        {
          "output_type": "execute_result",
          "data": {
            "text/plain": [
              "3"
            ]
          },
          "metadata": {},
          "execution_count": 3
        }
      ]
    },
    {
      "cell_type": "markdown",
      "source": [
        "# (2).Check if position 5 to 11 ends with the phrase iNeuron. in the string"
      ],
      "metadata": {
        "id": "1XorxjzlfgnR"
      }
    },
    {
      "cell_type": "code",
      "source": [
        "txt = \"Hello, welcome to FSDS 2.0 at iNeuron.\""
      ],
      "metadata": {
        "id": "7PsLtWzCfr6H"
      },
      "execution_count": 4,
      "outputs": []
    },
    {
      "cell_type": "code",
      "source": [
        "txt[5:11]"
      ],
      "metadata": {
        "colab": {
          "base_uri": "https://localhost:8080/",
          "height": 36
        },
        "id": "Ev-Z-rC5f0qA",
        "outputId": "40cea19b-8994-475a-88ab-55e90e6d3f9c"
      },
      "execution_count": 5,
      "outputs": [
        {
          "output_type": "execute_result",
          "data": {
            "text/plain": [
              "', welc'"
            ],
            "application/vnd.google.colaboratory.intrinsic+json": {
              "type": "string"
            }
          },
          "metadata": {},
          "execution_count": 5
        }
      ]
    },
    {
      "cell_type": "markdown",
      "source": [
        "# (3).Write a program that takes your full name as input and displays the abbreviations of the first and middle names except the last name which is displayed as it is. For example, if your name is Sunny Bhaveen Chandra, then the output should be S.B.Chandra."
      ],
      "metadata": {
        "id": "EznsImRugD0Q"
      }
    },
    {
      "cell_type": "code",
      "source": [
        "name = input(\"please enter your full name: \")\n",
        "\n",
        "name=name.split(\" \")\n",
        "#print(name)\n",
        "print(name[0][0],name[1][0],name[2])"
      ],
      "metadata": {
        "colab": {
          "base_uri": "https://localhost:8080/"
        },
        "id": "V84hgmuVBONK",
        "outputId": "adbbd93b-60ed-4f83-d511-3627ac0cabec"
      },
      "execution_count": 84,
      "outputs": [
        {
          "output_type": "stream",
          "name": "stdout",
          "text": [
            "please enter your full name: erewr huijoi hoijoi\n",
            "e h hoijoi\n"
          ]
        }
      ]
    },
    {
      "cell_type": "markdown",
      "source": [
        "# (4). Join all items in a list into a string, using a hash(#) character as separator:"
      ],
      "metadata": {
        "id": "gsPOWbm7gySo"
      }
    },
    {
      "cell_type": "code",
      "source": [
        "LIST = [\"My\", \"name\", \"is\", \"Rishav\", \"Dash\"]"
      ],
      "metadata": {
        "id": "T-RYBd9tg48Y"
      },
      "execution_count": 35,
      "outputs": []
    },
    {
      "cell_type": "code",
      "source": [
        "\"#\".join([\"My\", \"name\", \"is\", \"Rishav\", \"Dash\"])\n"
      ],
      "metadata": {
        "colab": {
          "base_uri": "https://localhost:8080/",
          "height": 36
        },
        "id": "rmXOY7t2g_JF",
        "outputId": "4820a591-a7d1-4760-b08b-3a8bea52dd1a"
      },
      "execution_count": 39,
      "outputs": [
        {
          "output_type": "execute_result",
          "data": {
            "text/plain": [
              "'My#name#is#Rishav#Dash'"
            ],
            "application/vnd.google.colaboratory.intrinsic+json": {
              "type": "string"
            }
          },
          "metadata": {},
          "execution_count": 39
        }
      ]
    },
    {
      "cell_type": "markdown",
      "source": [
        "# (5). Write example for the following string manipulation function,"
      ],
      "metadata": {
        "id": "B3titVchhYsF"
      }
    },
    {
      "cell_type": "code",
      "source": [
        "a = \"1\"\n",
        "a.isdecimal()"
      ],
      "metadata": {
        "colab": {
          "base_uri": "https://localhost:8080/"
        },
        "id": "kPNE816Phr2I",
        "outputId": "5bbcd27d-8cdd-408a-98e6-b814cc60f5e7"
      },
      "execution_count": 30,
      "outputs": [
        {
          "output_type": "execute_result",
          "data": {
            "text/plain": [
              "True"
            ]
          },
          "metadata": {},
          "execution_count": 30
        }
      ]
    },
    {
      "cell_type": "code",
      "source": [
        "a = \"sanjay\"\n",
        "a.islower()"
      ],
      "metadata": {
        "colab": {
          "base_uri": "https://localhost:8080/"
        },
        "id": "hQjAhRj6hy-z",
        "outputId": "3c9e55ea-a69b-4868-c15a-43d28944cce3"
      },
      "execution_count": 15,
      "outputs": [
        {
          "output_type": "execute_result",
          "data": {
            "text/plain": [
              "True"
            ]
          },
          "metadata": {},
          "execution_count": 15
        }
      ]
    },
    {
      "cell_type": "code",
      "source": [
        "a = \"Sanjay\"\n",
        "a.islower()"
      ],
      "metadata": {
        "colab": {
          "base_uri": "https://localhost:8080/"
        },
        "id": "T77AcHCxiIxl",
        "outputId": "3085d278-57a4-42e4-df1c-a8a69d122b8b"
      },
      "execution_count": 16,
      "outputs": [
        {
          "output_type": "execute_result",
          "data": {
            "text/plain": [
              "False"
            ]
          },
          "metadata": {},
          "execution_count": 16
        }
      ]
    },
    {
      "cell_type": "code",
      "source": [
        "a = \"SuppER\"\n",
        "a.isupper()"
      ],
      "metadata": {
        "colab": {
          "base_uri": "https://localhost:8080/"
        },
        "id": "bUq6nXDYiL__",
        "outputId": "7e42798f-b8bf-4e0d-9dd0-2775ea6ec53b"
      },
      "execution_count": 18,
      "outputs": [
        {
          "output_type": "execute_result",
          "data": {
            "text/plain": [
              "False"
            ]
          },
          "metadata": {},
          "execution_count": 18
        }
      ]
    },
    {
      "cell_type": "code",
      "source": [
        "a = \"SUPPER\"\n",
        "a.isupper()"
      ],
      "metadata": {
        "colab": {
          "base_uri": "https://localhost:8080/"
        },
        "id": "nTiQUS0iiSN4",
        "outputId": "8bf3e819-0260-4563-b81b-32ddf5d4ea42"
      },
      "execution_count": 20,
      "outputs": [
        {
          "output_type": "execute_result",
          "data": {
            "text/plain": [
              "True"
            ]
          },
          "metadata": {},
          "execution_count": 20
        }
      ]
    },
    {
      "cell_type": "code",
      "source": [
        "a = \"Ψ\"\n",
        "a.isalpha()"
      ],
      "metadata": {
        "colab": {
          "base_uri": "https://localhost:8080/"
        },
        "id": "uU7Qkj3QiZqt",
        "outputId": "48aad9f7-7742-4a88-e470-41cd55624848"
      },
      "execution_count": 27,
      "outputs": [
        {
          "output_type": "execute_result",
          "data": {
            "text/plain": [
              "True"
            ]
          },
          "metadata": {},
          "execution_count": 27
        }
      ]
    },
    {
      "cell_type": "code",
      "source": [
        "a = \"#\"\n",
        "a.isalpha()"
      ],
      "metadata": {
        "colab": {
          "base_uri": "https://localhost:8080/"
        },
        "id": "IHLhFmWTii3n",
        "outputId": "1798ed0a-4459-4866-a0e3-ccfdd6030a1f"
      },
      "execution_count": 26,
      "outputs": [
        {
          "output_type": "execute_result",
          "data": {
            "text/plain": [
              "False"
            ]
          },
          "metadata": {},
          "execution_count": 26
        }
      ]
    },
    {
      "cell_type": "code",
      "source": [
        "a = \"23\"\n",
        "a.isnumeric()"
      ],
      "metadata": {
        "colab": {
          "base_uri": "https://localhost:8080/"
        },
        "id": "guVYNfVeiybn",
        "outputId": "72310d80-bbd3-40ea-f42e-c3cf3aba3e05"
      },
      "execution_count": 29,
      "outputs": [
        {
          "output_type": "execute_result",
          "data": {
            "text/plain": [
              "True"
            ]
          },
          "metadata": {},
          "execution_count": 29
        }
      ]
    },
    {
      "cell_type": "markdown",
      "source": [
        "# (6).Indian PAN card format follows the following formats -"
      ],
      "metadata": {
        "id": "YLsSqKMejQYg"
      }
    },
    {
      "cell_type": "code",
      "source": [
        "PAN_CARD = input(\"Please Enter valid PAN_CARD Number: \")  # AYEPC7894X\n",
        "\n",
        "if PAN_CARD.isupper() and len(PAN_CARD) and PAN_CARD.isalnum() and PAN_CARD[6:9].isdigit():\n",
        "  print(\"Its a Valid PAN_CARD Number\")\n",
        "else:\n",
        "  print(\"Its a in-valid PAN_CARD Number\")"
      ],
      "metadata": {
        "colab": {
          "base_uri": "https://localhost:8080/"
        },
        "id": "Y6YbCEoMjUQD",
        "outputId": "a2aedfac-5743-4397-9384-b314f0bebcbe"
      },
      "execution_count": 59,
      "outputs": [
        {
          "output_type": "stream",
          "name": "stdout",
          "text": [
            "Please Enter valid PAN_CARD Number: AYEPC7894X\n",
            "Its a Valid PAN_CARD Number\n"
          ]
        }
      ]
    },
    {
      "cell_type": "code",
      "source": [
        "PAN_CARD = input(\"Please Enter valid PAN_CARD Number: \")  # ABCDE9999Y\n",
        "\n",
        "if PAN_CARD.isupper() and len(PAN_CARD)  and PAN_CARD.isalnum() and PAN_CARD[6:9].isdigit():\n",
        "  print(\"Its a Valid PAN_CARD Number\")\n",
        "else:\n",
        "  print(\"Its a in-valid PAN_CARD Number\")"
      ],
      "metadata": {
        "colab": {
          "base_uri": "https://localhost:8080/"
        },
        "id": "FftnrlJU5IT4",
        "outputId": "814c41da-f382-47d0-8595-6dfa67fd22a0"
      },
      "execution_count": 60,
      "outputs": [
        {
          "output_type": "stream",
          "name": "stdout",
          "text": [
            "Please Enter valid PAN_CARD Number: ABCDE9999Y\n",
            "Its a Valid PAN_CARD Number\n"
          ]
        }
      ]
    }
  ]
}